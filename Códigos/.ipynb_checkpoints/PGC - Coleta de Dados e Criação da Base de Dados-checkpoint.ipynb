{
 "cells": [
  {
   "cell_type": "markdown",
   "metadata": {},
   "source": [
    "# PGC - Coleta de Dados e Criação da Base de Dados"
   ]
  },
  {
   "cell_type": "code",
   "execution_count": 1,
   "metadata": {},
   "outputs": [],
   "source": [
    "import re\n",
    "import cv2\n",
    "import time\n",
    "import spacy\n",
    "\n",
    "import igraph as ig\n",
    "import pandas as pd\n",
    "import matplotlib.pyplot as plt\n",
    "\n",
    "from wordcloud import WordCloud\n",
    "from matplotlib.colors import ListedColormap\n",
    "\n",
    "regex = r\"[-'a-zA-ZÀ-ÖØ-öø-ÿ0-9]+\""
   ]
  },
  {
   "cell_type": "markdown",
   "metadata": {},
   "source": [
    "Abrindo o corpus e armazenando o conteúdo completo em *content* e as linhas em *paragraphs*."
   ]
  },
  {
   "cell_type": "code",
   "execution_count": 2,
   "metadata": {},
   "outputs": [
    {
     "name": "stdout",
     "output_type": "stream",
     "text": [
      "Quantidade de palavras: 115525\n"
     ]
    }
   ],
   "source": [
    "fileName = \"../Dados/corpus-textos-DC-01-10.txt\"\n",
    "\n",
    "document = open(fileName,'r', encoding='utf-8')\n",
    "content  = document.read()\n",
    "\n",
    "document = open(fileName,'r', encoding='utf-8')\n",
    "paragraphs = document.readlines()\n",
    "\n",
    "words = re.findall(regex, content)\n",
    "\n",
    "print (f\"Quantidade de palavras: {len(words)}\") "
   ]
  },
  {
   "cell_type": "markdown",
   "metadata": {},
   "source": [
    "Removendo parágrafos em branco. Esses parágrafos foram adicionados ao *corpus* apenas para que ficasse mais fácil de ler."
   ]
  },
  {
   "cell_type": "code",
   "execution_count": 3,
   "metadata": {},
   "outputs": [],
   "source": [
    "for paragraph in paragraphs:\n",
    "    if paragraph == \"\\n\":\n",
    "        paragraphs.remove(paragraph)"
   ]
  },
  {
   "cell_type": "code",
   "execution_count": 4,
   "metadata": {},
   "outputs": [
    {
     "name": "stdout",
     "output_type": "stream",
     "text": [
      "Quantidade de parágrafos de conteúdo: 2224\n"
     ]
    }
   ],
   "source": [
    "print(f\"Quantidade de parágrafos de conteúdo: {len(paragraphs)}\")"
   ]
  },
  {
   "cell_type": "markdown",
   "metadata": {},
   "source": [
    "Quantas palavras diferentes estão presentes no *corpus*? Quantas vezes cada uma dessas palavras aparece no *corpus*?"
   ]
  },
  {
   "cell_type": "code",
   "execution_count": 5,
   "metadata": {},
   "outputs": [
    {
     "name": "stdout",
     "output_type": "stream",
     "text": [
      "Tamanho do vocabulário: 14932\n"
     ]
    }
   ],
   "source": [
    "frequencies = dict([])\n",
    "for w in words:\n",
    "    w = w.lower()\n",
    "    if w not in frequencies:\n",
    "        frequencies[w] = 0\n",
    "    frequencies[w] += 1\n",
    "print (f\"Tamanho do vocabulário: {len(frequencies)}\")"
   ]
  },
  {
   "cell_type": "code",
   "execution_count": 6,
   "metadata": {},
   "outputs": [
    {
     "name": "stdout",
     "output_type": "stream",
     "text": [
      "Freq\t -\t Palavra\n",
      "5600\t -\t de\n",
      "3571\t -\t a\n",
      "3533\t -\t e\n",
      "3095\t -\t que\n",
      "2864\t -\t o\n",
      "1803\t -\t em\n",
      "1586\t -\t da\n",
      "1568\t -\t do\n",
      "1448\t -\t é\n",
      "1417\t -\t um\n",
      "1284\t -\t para\n",
      "1161\t -\t com\n",
      "1151\t -\t uma\n",
      "983\t -\t os\n",
      "882\t -\t por\n",
      "880\t -\t no\n",
      "869\t -\t como\n",
      "842\t -\t não\n",
      "824\t -\t na\n",
      "738\t -\t se\n"
     ]
    }
   ],
   "source": [
    "fs = sorted(frequencies, key=frequencies.get, reverse=True)\n",
    "print(\"Freq\\t -\\t Palavra\")\n",
    "for i in range(0,20):\n",
    "    print (f\"{frequencies[fs[i]]}\\t -\\t {fs[i]}\")"
   ]
  },
  {
   "cell_type": "markdown",
   "metadata": {},
   "source": [
    "Quantidade e frequência das palavras após a remoção de *stopwords*."
   ]
  },
  {
   "cell_type": "code",
   "execution_count": 7,
   "metadata": {},
   "outputs": [
    {
     "name": "stdout",
     "output_type": "stream",
     "text": [
      "Tamanho do vocabulário (sem stopwords): 14606\n"
     ]
    }
   ],
   "source": [
    "stopwordsPTfile = open(\"../Dados/stopwords-pt.txt\",'r', encoding='utf-8')\n",
    "stopwords = set([]) \n",
    "for s in stopwordsPTfile.readlines():\n",
    "    stopwords.add(s.strip().lower())\n",
    "    \n",
    "frequencies = dict([])\n",
    "for w in words:\n",
    "    w = w.lower()\n",
    "    if w not in stopwords:\n",
    "        if w not in frequencies:\n",
    "            frequencies[w] = 0\n",
    "        frequencies[w] += 1\n",
    "        \n",
    "print (f\"Tamanho do vocabulário (sem stopwords): {len(frequencies)}\")"
   ]
  },
  {
   "cell_type": "code",
   "execution_count": 8,
   "metadata": {},
   "outputs": [
    {
     "name": "stdout",
     "output_type": "stream",
     "text": [
      "Freq\t -\t Palavra\n",
      "239\t -\t ciência\n",
      "231\t -\t água\n",
      "142\t -\t tempo\n",
      "125\t -\t exemplo\n",
      "125\t -\t luz\n",
      "115\t -\t vida\n",
      "114\t -\t mundo\n",
      "112\t -\t história\n",
      "105\t -\t pesquisa\n",
      "104\t -\t química\n",
      "103\t -\t cientistas\n",
      "95\t -\t animais\n",
      "93\t -\t brasil\n",
      "90\t -\t terra\n",
      "87\t -\t física\n",
      "86\t -\t estudos\n",
      "86\t -\t moléculas\n",
      "84\t -\t vírus\n",
      "80\t -\t científica\n",
      "75\t -\t corpo\n"
     ]
    }
   ],
   "source": [
    "fs = sorted(frequencies, key=frequencies.get, reverse=True)\n",
    "print(\"Freq\\t -\\t Palavra\")\n",
    "for i in range(0,20):\n",
    "    print (f\"{frequencies[fs[i]]}\\t -\\t {fs[i]}\")"
   ]
  },
  {
   "cell_type": "code",
   "execution_count": 9,
   "metadata": {},
   "outputs": [],
   "source": [
    "textos_por_palavra = []\n",
    "palavras = []\n",
    "\n",
    "for word in words:\n",
    "    if(word != \"---\"):\n",
    "        palavras.append(word)\n",
    "    else:\n",
    "        textos_por_palavra.append(palavras)\n",
    "        palavras = []"
   ]
  },
  {
   "cell_type": "code",
   "execution_count": 10,
   "metadata": {},
   "outputs": [],
   "source": [
    "textos_por_paragrafo = []\n",
    "paragrafos = []\n",
    "\n",
    "for paragraph in paragraphs:\n",
    "    if(paragraph != \"---\\n\"):\n",
    "        paragrafos.append(paragraph[:-1])\n",
    "    else:\n",
    "        textos_por_paragrafo.append(paragrafos)\n",
    "        paragrafos = []"
   ]
  },
  {
   "cell_type": "code",
   "execution_count": 11,
   "metadata": {},
   "outputs": [],
   "source": [
    "i = 154"
   ]
  },
  {
   "cell_type": "markdown",
   "metadata": {},
   "source": [
    "Texto *i* como um vetor de palavras."
   ]
  },
  {
   "cell_type": "code",
   "execution_count": 12,
   "metadata": {},
   "outputs": [
    {
     "name": "stdout",
     "output_type": "stream",
     "text": [
      "['Qual', 'a', 'diferença', 'entre', 'rinite', 'e', 'sinusite', 'acessibilidade', 'Ilustração', 'de', 'um', 'homem', 'espirrando', 'em', 'um', 'lenço', 'Existem', 'duas', 'ites', 'que', 'acometem', 'nossas', 'vias', 'aéreas', 'no', 'inverno', 'e', 'no', 'período', 'de', 'ar', 'seco', 'são', 'elas', 'sinusite', 'e', 'rinite', 'Estas', 'duas', 'inflamações', 'podem', 'se', 'manifestar', 'sempre', 'que', 'a', 'pessoa', 'tiver', 'contato', 'com', 'algum', 'patógeno', 'ou', 'com', 'substâncias', 'alergênicas', 'Elas', 'podem', 'ocorrer', 'juntas', 'ou', 'isoladamente', 'e', 'em', 'muitos', 'casos', 'a', 'rinite', 'pode', 'acarretar', 'a', 'sinusite', 'Mas', 'afinal', 'você', 'sabe', 'diferenciar', 'as', 'duas', 'A', 'rinite', 'é', 'uma', 'inflamação', 'que', 'acomete', 'as', 'mucosas', 'do', 'nariz', 'e', 'essa', 'inflamação', 'ocorre', 'por', 'conta', 'de', 'infecções', 'virais', 'ou', 'de', 'alergias', 'A', 'rinite', 'alérgica', 'é', 'mais', 'comum', 'e', 'é', 'provocada', 'por', 'partículas', 'estranhas', 'ao', 'nosso', 'corpo', 'como', 'pelos', 'de', 'animais', 'e', 'poeira', 'Os', 'sintomas', 'geralmente', 'são', 'coceira', 'no', 'nariz', 'coriza', 'obstrução', 'nasal', 'espirro', 'dor', 'de', 'cabeça', 'e', 'nos', 'olhos', 'Os', 'tratamentos', 'envolvem', 'antialérgicos', 'vacinas', 'contra', 'alergias', 'e', 'corticoides', 'Já', 'a', 'sinusite', 'é', 'uma', 'inflamação', 'nas', 'mucosas', 'dos', 'seios', 'da', 'face', 'que', 'são', 'cavidades', 'localizadas', 'no', 'interior', 'dos', 'ossos', 'faciais', 'Ela', 'geralmente', 'está', 'associada', 'a', 'infecções', 'de', 'bactérias', 'mas', 'também', 'pode', 'ser', 'ocasionada', 'por', 'vírus', 'fungos', 'e', 'alergias', 'Os', 'sintomas', 'são', 'a', 'sensação', 'de', 'cabeça', 'pesada', 'coriza', 'obstrução', 'nasal', 'tosse', 'dor', 'na', 'face', 'e', 'de', 'cabeça', 'e', 'ocasionalmente', 'febre', 'A', 'sinusite', 'pode', 'ser', 'classificada', 'como', 'aguda', 'quando', 'corre', 'por', 'até', '3', 'meses', 'e', 'crônica', 'quando', 'os', 'sintomas', 'são', 'mais', 'moderados', 'e', 'podem', 'persistir', 'por', 'mais', 'de', '3', 'meses', 'Os', 'tratamentos', 'estão', 'associados', 'ao', 'uso', 'de', 'antibióticos', 'e', 'corticoides', 'e', 'em', 'alguns', 'casos', 'específicos', 'é', 'necessária', 'a', 'realização', 'de', 'cirurgia', 'Agora', 'que', 'você', 'já', 'sabe', 'a', 'diferença', 'dos', 'dois', 'vamos', 'para', 'a', 'prevenção', 'Busque', 'manter', 'sua', 'casa', 'e', 'seu', 'ambiente', 'de', 'trabalho', 'limpos', 'evite', 'ter', 'contato', 'com', 'mofo', 'e', 'poeira', 'higienize', 'os', 'seus', 'pets', 'peludinhos', 'não', 'fume', 'pratique', 'atividade', 'física', 'hidrate-se', 'e', 'realize', 'lavagem', 'nasal', 'conforme', 'recomendação', 'médica', 'E', 'atenção', 'antes', 'de', 'utilizar', 'qualquer', 'medicamento', 'consulte', 'o', 'seu', 'farmacêutico', 'Milena', 'do', 'Nascimento']\n"
     ]
    }
   ],
   "source": [
    "print(textos_por_palavra[i])"
   ]
  },
  {
   "cell_type": "markdown",
   "metadata": {},
   "source": [
    "Texto *i* como um vetor de *strings* em que cada *string* é um parágrafo do texto."
   ]
  },
  {
   "cell_type": "code",
   "execution_count": 13,
   "metadata": {},
   "outputs": [
    {
     "name": "stdout",
     "output_type": "stream",
     "text": [
      "['Qual a diferença entre rinite e sinusite?', '#acessibilidade Ilustração de um homem espirrando em um lenço.', 'Existem duas “ites” que acometem nossas vias aéreas no inverno e no período de ar seco, são elas: sinusite e rinite. Estas duas inflamações podem se manifestar sempre que a pessoa tiver contato com algum patógeno ou com substâncias alergênicas. Elas podem ocorrer juntas ou isoladamente, e em muitos casos a rinite pode acarretar a sinusite. Mas, afinal, você sabe diferenciar as duas?', 'A rinite é uma inflamação que acomete as mucosas do nariz, e essa inflamação ocorre por conta de infecções virais ou de alergias. A rinite alérgica é mais comum e é provocada por partículas estranhas ao nosso corpo como pelos de animais e poeira. Os sintomas geralmente são coceira no nariz, coriza, obstrução nasal, espirro, dor de cabeça e nos olhos. Os tratamentos envolvem antialérgicos, vacinas contra alergias e corticoides.', 'Já a sinusite é uma inflamação nas mucosas dos seios da face, que são cavidades localizadas no interior dos ossos faciais. Ela geralmente está associada a infecções de bactérias, mas também pode ser ocasionada por vírus, fungos e alergias. Os sintomas são a sensação de cabeça pesada, coriza obstrução nasal, tosse, dor na face e de cabeça e ocasionalmente febre. A sinusite pode ser classificada como aguda, quando corre por até 3 meses, e crônica, quando os sintomas são mais moderados e podem persistir por mais de 3 meses. Os tratamentos estão associados ao uso de antibióticos e corticoides, e em alguns casos específicos é necessária a realização de cirurgia.', 'Agora que você já sabe a diferença dos dois vamos para a prevenção! Busque manter sua casa e seu ambiente de trabalho limpos, evite ter contato com mofo e poeira, higienize os seus pets peludinhos, não fume, pratique atividade física, hidrate-se e realize lavagem nasal, conforme recomendação médica.', 'E, atenção, antes de utilizar qualquer medicamento, consulte o seu farmacêutico!', 'Milena do Nascimento']\n"
     ]
    }
   ],
   "source": [
    "print(textos_por_paragrafo[i])"
   ]
  },
  {
   "cell_type": "markdown",
   "metadata": {},
   "source": [
    "## Criação dos atributos"
   ]
  },
  {
   "cell_type": "markdown",
   "metadata": {},
   "source": [
    "Criação dos atributos tamanho do título, média de caracteres nos parágrafos, número de palavras e número de parágrafos."
   ]
  },
  {
   "cell_type": "code",
   "execution_count": 14,
   "metadata": {},
   "outputs": [
    {
     "name": "stdout",
     "output_type": "stream",
     "text": [
      "Tamanho do título:\n",
      " [40, 22, 65, 20, 56, 32, 36, 52, 31, 71, 46, 21, 37, 29, 37, 39, 54, 24, 14, 25, 24, 40, 23, 40, 70, 45, 32, 22, 36, 33, 25, 26, 52, 63, 36, 45, 51, 18, 34, 11, 74, 35, 20, 22, 15, 64, 23, 40, 37, 42, 52, 78, 48, 23, 71, 7, 28, 27, 44, 7, 27, 26, 29, 46, 57, 42, 53, 40, 29, 52, 45, 68, 45, 74, 54, 33, 36, 56, 45, 69, 25, 32, 27, 51, 36, 46, 42, 27, 66, 43, 42, 78, 60, 38, 22, 61, 38, 25, 91, 37, 52, 65, 49, 31, 68, 61, 37, 31, 55, 30, 34, 43, 21, 26, 37, 22, 51, 59, 71, 40, 57, 30, 34, 48, 51, 39, 34, 19, 20, 62, 40, 40, 83, 76, 48, 20, 29, 43, 49, 43, 66, 36, 42, 74, 70, 36, 48, 46, 35, 63, 17, 30, 38, 42, 41]\n"
     ]
    }
   ],
   "source": [
    "tamanhoTitulo = []\n",
    "for i in range (len(textos_por_paragrafo)):\n",
    "    tamanhoTitulo.append(len(textos_por_paragrafo[i][0]))\n",
    "\n",
    "print(\"Tamanho do título:\\n\",tamanhoTitulo)"
   ]
  },
  {
   "cell_type": "code",
   "execution_count": 15,
   "metadata": {},
   "outputs": [
    {
     "name": "stdout",
     "output_type": "stream",
     "text": [
      "Média de parágrafos:\n",
      " [308, 204, 180, 514, 340, 332, 472, 384, 478, 378, 265, 337, 440, 530, 342, 335, 464, 219, 518, 313, 563, 247, 301, 539, 584, 355, 451, 249, 506, 419, 387, 436, 212, 304, 612, 570, 482, 476, 562, 589, 294, 353, 316, 443, 571, 496, 555, 421, 474, 504, 184, 434, 240, 484, 358, 636, 290, 388, 240, 218, 242, 466, 476, 547, 406, 358, 599, 302, 545, 300, 540, 655, 608, 559, 567, 423, 472, 303, 391, 356, 532, 424, 398, 368, 672, 428, 425, 395, 432, 183, 645, 267, 460, 324, 309, 788, 602, 684, 294, 274, 430, 246, 460, 435, 685, 426, 460, 431, 321, 293, 342, 689, 408, 416, 171, 615, 460, 234, 809, 377, 976, 313, 477, 571, 316, 350, 392, 811, 646, 739, 645, 480, 348, 760, 404, 514, 553, 443, 519, 287, 627, 462, 490, 146, 690, 317, 249, 340, 722, 367, 511, 632, 349, 367, 320]\n"
     ]
    }
   ],
   "source": [
    "mediaParagrafos = []\n",
    "#tamanhoParagrafos = []\n",
    "aux = []\n",
    "#maior = 0\n",
    "#txtMaior = 0\n",
    "#parMaior = 0\n",
    "\n",
    "for i in range (len(textos_por_paragrafo)):\n",
    "    for j in range (1,len(textos_por_paragrafo[i])-1):\n",
    "        aux.append(len(textos_por_paragrafo[i][j]))\n",
    "        \n",
    "        #if len(textos_por_paragrafo[i][j]) > maior:\n",
    "        #    maior = len(textos_por_paragrafo[i][j])\n",
    "        #    \n",
    "        #    txtMaior = i\n",
    "        #    parMaior = j\n",
    "    \n",
    "    mediaParagrafos.append(round(sum(aux)/len(aux)))\n",
    "    #tamanhoParagrafos.append(aux)\n",
    "    aux = []\n",
    "\n",
    "#print(\"Maior parágrafo tem\",len(textos_por_paragrafo[txtMaior][parMaior]),\n",
    "#      \"caracteres\\nTexto:\",textos_por_paragrafo[txtMaior][0],\n",
    "#      \"\\nParágrafo:\\n\\t\",textos_por_paragrafo[txtMaior][parMaior])\n",
    "\n",
    "print(\"Média de parágrafos:\\n\", mediaParagrafos)"
   ]
  },
  {
   "cell_type": "code",
   "execution_count": 16,
   "metadata": {},
   "outputs": [
    {
     "name": "stdout",
     "output_type": "stream",
     "text": [
      "Número de palavras\n",
      " [345, 532, 913, 322, 557, 400, 400, 345, 577, 1129, 439, 311, 300, 516, 345, 449, 341, 799, 609, 714, 612, 375, 236, 438, 766, 381, 371, 1757, 330, 339, 292, 355, 203, 1052, 619, 363, 435, 487, 426, 678, 584, 529, 271, 691, 1079, 335, 1044, 583, 511, 668, 1031, 631, 348, 678, 342, 855, 768, 913, 515, 327, 389, 1702, 1153, 1124, 758, 947, 392, 443, 706, 1324, 810, 851, 816, 472, 697, 367, 406, 613, 973, 737, 576, 1228, 1441, 1452, 1252, 1249, 1309, 533, 1171, 651, 1341, 731, 1200, 687, 782, 749, 580, 1152, 749, 552, 1083, 685, 756, 1236, 779, 934, 554, 606, 564, 1219, 437, 1011, 987, 563, 788, 652, 608, 759, 954, 608, 1219, 886, 812, 835, 778, 443, 618, 654, 1048, 1011, 713, 917, 547, 1111, 788, 708, 948, 892, 1097, 673, 2046, 754, 1978, 724, 883, 965, 756, 803, 1026, 903, 926, 750, 667, 761, 321]\n",
      "\n",
      "Número de parágrafos\n",
      " [9, 18, 33, 6, 13, 9, 7, 7, 9, 20, 11, 7, 7, 8, 8, 10, 7, 23, 9, 16, 9, 11, 7, 7, 10, 8, 7, 46, 6, 7, 7, 7, 8, 23, 8, 6, 8, 8, 7, 10, 14, 11, 7, 11, 13, 6, 14, 11, 8, 10, 35, 11, 11, 11, 8, 11, 19, 16, 15, 11, 12, 24, 17, 15, 13, 18, 6, 11, 10, 28, 11, 10, 10, 7, 10, 7, 7, 14, 17, 15, 9, 20, 24, 25, 14, 20, 20, 10, 19, 22, 15, 18, 18, 15, 17, 8, 8, 12, 18, 14, 17, 19, 12, 19, 9, 15, 9, 11, 12, 27, 10, 11, 17, 11, 28, 9, 10, 21, 9, 12, 10, 19, 12, 11, 17, 10, 12, 7, 12, 11, 9, 14, 11, 11, 13, 10, 13, 14, 15, 16, 22, 12, 26, 31, 10, 21, 21, 17, 11, 16, 13, 9, 14, 15, 8]\n"
     ]
    }
   ],
   "source": [
    "nPalavras = []\n",
    "nParagrafos = []\n",
    "\n",
    "for i in range (len(textos_por_palavra)):\n",
    "    nPalavras.append(len(textos_por_palavra[i]))\n",
    "    nParagrafos.append(len(textos_por_paragrafo[i]))\n",
    "    \n",
    "print(\"Número de palavras\\n\", nPalavras)\n",
    "print(\"\\nNúmero de parágrafos\\n\", nParagrafos)"
   ]
  },
  {
   "cell_type": "markdown",
   "metadata": {},
   "source": [
    "Postagging para criação dos atributos 'numSub', 'numAdj', 'numVrb', 'numNEs', 'numDet', 'numConj', 'numAdv', 'numAdp' e 'numNum'."
   ]
  },
  {
   "cell_type": "code",
   "execution_count": 17,
   "metadata": {},
   "outputs": [],
   "source": [
    "postagging = spacy.load('pt_core_news_lg')"
   ]
  },
  {
   "cell_type": "markdown",
   "metadata": {},
   "source": [
    "Exemplo para o título do texto 117."
   ]
  },
  {
   "cell_type": "code",
   "execution_count": 18,
   "metadata": {},
   "outputs": [
    {
     "name": "stdout",
     "output_type": "stream",
     "text": [
      "O Paradoxo de Simpson te mostra que nem tudo é o que parece \n",
      "\n",
      "Palavra: O \n",
      "Postag: DET \n",
      "\n",
      "Palavra: Paradoxo \n",
      "Postag: PROPN \n",
      "\n",
      "Palavra: de \n",
      "Postag: ADP \n",
      "\n",
      "Palavra: Simpson \n",
      "Postag: PROPN \n",
      "\n",
      "Palavra: te \n",
      "Postag: PRON \n",
      "\n",
      "Palavra: mostra \n",
      "Postag: VERB \n",
      "\n",
      "Palavra: que \n",
      "Postag: SCONJ \n",
      "\n",
      "Palavra: nem \n",
      "Postag: CCONJ \n",
      "\n",
      "Palavra: tudo \n",
      "Postag: PRON \n",
      "\n",
      "Palavra: é \n",
      "Postag: AUX \n",
      "\n",
      "Palavra: o \n",
      "Postag: PRON \n",
      "\n",
      "Palavra: que \n",
      "Postag: PRON \n",
      "\n",
      "Palavra: parece \n",
      "Postag: VERB \n",
      "\n"
     ]
    }
   ],
   "source": [
    "parsedData = postagging(textos_por_paragrafo[117][0])\n",
    "print(parsedData,\"\\n\")\n",
    "\n",
    "for j,word in enumerate(parsedData):\n",
    "    print(\"Palavra:\",word.text,\"\\nPostag:\",word.pos_,\"\\n\")"
   ]
  },
  {
   "cell_type": "code",
   "execution_count": 19,
   "metadata": {},
   "outputs": [
    {
     "name": "stdout",
     "output_type": "stream",
     "text": [
      "Paradoxo MISC\n",
      "de MISC\n",
      "Simpson MISC\n"
     ]
    }
   ],
   "source": [
    "for word in parsedData:\n",
    "    if word.ent_type_:\n",
    "        print(word.text, word.ent_type_)"
   ]
  },
  {
   "cell_type": "code",
   "execution_count": 20,
   "metadata": {
    "scrolled": true
   },
   "outputs": [
    {
     "name": "stdout",
     "output_type": "stream",
     "text": [
      "42.223 segundos\n"
     ]
    }
   ],
   "source": [
    "t=time.perf_counter()\n",
    "\n",
    "nNounsTotal = []\n",
    "nAdjTotal = []\n",
    "nVerbTotal = []\n",
    "nNesTotal = []\n",
    "nDetTotal = []\n",
    "nConjTotal = []\n",
    "nAdvTotal = []\n",
    "nAdpTotal = []\n",
    "nNumTotal = []\n",
    "palavras_desconhecidas = []\n",
    "\n",
    "for k in range (len(textos_por_paragrafo)):\n",
    "    nNouns = 0\n",
    "    nAdj = 0\n",
    "    nVerb = 0\n",
    "    nNes = 0\n",
    "    nDet = 0\n",
    "    nConj = 0\n",
    "    nAdv = 0\n",
    "    nAdp = 0\n",
    "    nNum = 0\n",
    "    \n",
    "    for l in range (len(textos_por_paragrafo[k])):        \n",
    "        parsedData = postagging(textos_por_paragrafo[k][l])\n",
    "        \n",
    "        for j,palavra in enumerate(parsedData):\n",
    "            tag = palavra.pos_\n",
    "            if tag in [\"NOUN\",\"PROPN\"]:\n",
    "                nNouns += 1\n",
    "            elif tag in [\"ADJ\"]:\n",
    "                nAdj += 1\n",
    "            elif tag in [\"VERB\"]:\n",
    "                nVerb += 1\n",
    "            elif tag in [\"DET\"]:\n",
    "                nDet += 1\n",
    "            elif tag in [\"CONJ\",\"CCONJ\"]:\n",
    "                nConj += 1\n",
    "            elif tag in [\"ADV\"]:\n",
    "                nAdv += 1\n",
    "            elif tag in [\"NUM\"]:\n",
    "                nNum += 1\n",
    "            elif tag in [\"ADP\"]:\n",
    "                nAdp += 1\n",
    "            elif tag in [\"X\"]:\n",
    "                palavras_desconhecidas.append(palavra)\n",
    "            if palavra.ent_type_:\n",
    "                nNes += 1\n",
    "\n",
    "    nNounsTotal.append(round(nNouns/nPalavras[k],4))\n",
    "    nAdjTotal.append(round(nAdj/nPalavras[k],4))\n",
    "    nVerbTotal.append(round(nVerb/nPalavras[k],4))\n",
    "    nNesTotal.append(round(nNes/nPalavras[k],4))\n",
    "    nDetTotal.append(round(nDet/nPalavras[k],4))\n",
    "    nConjTotal.append(round(nConj/nPalavras[k],4))\n",
    "    nAdvTotal.append(round(nAdv/nPalavras[k],4))\n",
    "    nAdpTotal.append(round(nAdp/nPalavras[k],4))\n",
    "    nNumTotal.append(round(nNum/nPalavras[k],4))\n",
    "\n",
    "print(round(time.perf_counter()-t,3), \"segundos\")"
   ]
  },
  {
   "cell_type": "code",
   "execution_count": 21,
   "metadata": {},
   "outputs": [
    {
     "name": "stdout",
     "output_type": "stream",
     "text": [
      "Substantivos (%):\n",
      " [0.3362, 0.3684, 0.3395, 0.3758, 0.4022, 0.2825, 0.36, 0.2957, 0.3016, 0.3198, 0.3303, 0.2765, 0.3333, 0.345, 0.2812, 0.3007, 0.305, 0.2215, 0.3547, 0.3515, 0.3415, 0.2773, 0.3305, 0.3014, 0.3133, 0.2966, 0.3801, 0.2977, 0.3, 0.292, 0.3699, 0.2901, 0.3695, 0.2557, 0.294, 0.3058, 0.3954, 0.306, 0.3803, 0.3378, 0.4092, 0.3138, 0.3358, 0.2836, 0.3216, 0.3403, 0.2912, 0.295, 0.2916, 0.253, 0.3385, 0.3439, 0.3534, 0.2625, 0.3363, 0.3977, 0.3529, 0.3713, 0.301, 0.3089, 0.2956, 0.2867, 0.2663, 0.3158, 0.2889, 0.32, 0.3061, 0.3002, 0.3272, 0.2636, 0.3049, 0.342, 0.2794, 0.2924, 0.33, 0.2943, 0.3005, 0.3002, 0.3094, 0.3229, 0.3229, 0.3779, 0.3046, 0.3815, 0.2564, 0.3187, 0.3163, 0.3265, 0.2886, 0.2627, 0.3162, 0.342, 0.3317, 0.3362, 0.2749, 0.3311, 0.3534, 0.2535, 0.2804, 0.2736, 0.2853, 0.3401, 0.3479, 0.3018, 0.2991, 0.3137, 0.2924, 0.3432, 0.3067, 0.3175, 0.2494, 0.2572, 0.2948, 0.3108, 0.1992, 0.3021, 0.3191, 0.2701, 0.2642, 0.3273, 0.2855, 0.281, 0.2796, 0.2994, 0.2828, 0.3544, 0.3479, 0.318, 0.27, 0.3037, 0.3268, 0.2868, 0.2633, 0.2727, 0.2614, 0.2641, 0.289, 0.3195, 0.3045, 0.2927, 0.3045, 0.313, 0.2518, 0.3633, 0.3262, 0.2736, 0.2857, 0.3113, 0.2953, 0.2802, 0.2991, 0.2867, 0.3058, 0.3035, 0.3115]\n",
      "\n",
      "Adjetivos (%):\n",
      " [0.0754, 0.0752, 0.0537, 0.0528, 0.0772, 0.065, 0.065, 0.0406, 0.0503, 0.0664, 0.0615, 0.0804, 0.1433, 0.0581, 0.0725, 0.0601, 0.1202, 0.0626, 0.0673, 0.056, 0.098, 0.104, 0.1186, 0.0868, 0.0483, 0.0472, 0.1078, 0.0592, 0.1, 0.0767, 0.0685, 0.0986, 0.0837, 0.0646, 0.0792, 0.0992, 0.0897, 0.0678, 0.0634, 0.0973, 0.0548, 0.0681, 0.0738, 0.0912, 0.0602, 0.1045, 0.0987, 0.0926, 0.0646, 0.0539, 0.0553, 0.0919, 0.0718, 0.0929, 0.1111, 0.0749, 0.1042, 0.0767, 0.0699, 0.1223, 0.0823, 0.064, 0.0729, 0.0649, 0.0989, 0.0655, 0.0612, 0.0835, 0.0652, 0.0574, 0.0667, 0.0646, 0.0551, 0.0678, 0.1033, 0.0599, 0.069, 0.0538, 0.0524, 0.0583, 0.0885, 0.0586, 0.084, 0.0627, 0.1062, 0.0689, 0.0504, 0.0638, 0.1008, 0.0415, 0.0738, 0.052, 0.0508, 0.064, 0.0767, 0.0734, 0.0724, 0.0738, 0.0935, 0.0562, 0.0619, 0.0861, 0.0728, 0.089, 0.0834, 0.0771, 0.0812, 0.0825, 0.0621, 0.0705, 0.0778, 0.0762, 0.0871, 0.1137, 0.1079, 0.0905, 0.0609, 0.0593, 0.086, 0.0724, 0.0697, 0.0824, 0.0468, 0.0695, 0.0463, 0.0813, 0.0922, 0.0688, 0.0744, 0.0831, 0.0827, 0.0883, 0.053, 0.0594, 0.0495, 0.0565, 0.0897, 0.065, 0.0665, 0.0966, 0.0797, 0.065, 0.0799, 0.0552, 0.0668, 0.086, 0.0608, 0.0996, 0.0975, 0.0631, 0.0832, 0.064, 0.0765, 0.0815, 0.0654]\n",
      "\n",
      "Verbos (%):\n",
      " [0.1159, 0.1034, 0.1544, 0.1273, 0.079, 0.1525, 0.1275, 0.1623, 0.1404, 0.1027, 0.1071, 0.1254, 0.0867, 0.1105, 0.1275, 0.1359, 0.0909, 0.1464, 0.1133, 0.1022, 0.0997, 0.168, 0.1229, 0.1142, 0.1253, 0.1155, 0.0889, 0.1582, 0.1424, 0.1534, 0.0856, 0.1493, 0.1133, 0.1492, 0.1066, 0.1047, 0.0897, 0.1006, 0.0962, 0.1121, 0.0908, 0.1096, 0.1328, 0.1071, 0.088, 0.0776, 0.114, 0.1338, 0.1429, 0.1662, 0.1038, 0.0872, 0.1006, 0.1313, 0.0819, 0.0959, 0.099, 0.0756, 0.1029, 0.1223, 0.144, 0.1099, 0.1292, 0.1326, 0.1082, 0.1014, 0.1378, 0.1151, 0.1176, 0.1344, 0.1111, 0.0834, 0.1373, 0.1568, 0.0918, 0.1335, 0.1576, 0.1338, 0.1161, 0.1194, 0.1372, 0.1083, 0.1083, 0.095, 0.1294, 0.1065, 0.1138, 0.1069, 0.1161, 0.1736, 0.0969, 0.1067, 0.1392, 0.131, 0.124, 0.1095, 0.1034, 0.1267, 0.1202, 0.154, 0.1302, 0.108, 0.1005, 0.0979, 0.1168, 0.1167, 0.1282, 0.0941, 0.1099, 0.1222, 0.167, 0.1375, 0.1175, 0.103, 0.1168, 0.1319, 0.1266, 0.1146, 0.1289, 0.1135, 0.1288, 0.1264, 0.1268, 0.1138, 0.1825, 0.1061, 0.089, 0.1239, 0.1374, 0.1177, 0.1136, 0.1232, 0.1536, 0.1305, 0.1447, 0.1328, 0.1192, 0.1155, 0.1167, 0.1144, 0.1041, 0.1207, 0.1436, 0.0898, 0.1133, 0.113, 0.1336, 0.1283, 0.1092, 0.1274, 0.1058, 0.1173, 0.0975, 0.1524, 0.1277]\n",
      "\n",
      "Entidades nomeadas (%):\n",
      " [0.142, 0.1673, 0.1249, 0.059, 0.1598, 0.0575, 0.05, 0.0348, 0.0225, 0.1302, 0.1162, 0.0354, 0.0167, 0.064, 0.0406, 0.0312, 0.0293, 0.0388, 0.1314, 0.1961, 0.0556, 0.048, 0.0339, 0.0205, 0.1292, 0.0184, 0.097, 0.0803, 0.0182, 0.0383, 0.0685, 0.0141, 0.0493, 0.0266, 0.0468, 0.0386, 0.0989, 0.0246, 0.1056, 0.0221, 0.1781, 0.1815, 0.0701, 0.0101, 0.0677, 0.0776, 0.0335, 0.024, 0.0724, 0.021, 0.1115, 0.0475, 0.0805, 0.0192, 0.076, 0.1368, 0.0417, 0.1314, 0.1243, 0.0245, 0.0437, 0.0682, 0.0234, 0.1112, 0.0356, 0.0729, 0.0204, 0.0248, 0.0708, 0.04, 0.079, 0.0623, 0.0135, 0.0106, 0.0287, 0.0109, 0.0222, 0.0538, 0.0956, 0.0936, 0.0417, 0.1726, 0.0604, 0.1935, 0.0463, 0.1729, 0.1215, 0.0113, 0.0248, 0.0184, 0.0686, 0.13, 0.0658, 0.0975, 0.0627, 0.0774, 0.0966, 0.0226, 0.0494, 0.0181, 0.0046, 0.1139, 0.1455, 0.0437, 0.0321, 0.0118, 0.0217, 0.0314, 0.0213, 0.0476, 0.0275, 0.0485, 0.0294, 0.0675, 0.0051, 0.0092, 0.0493, 0.0408, 0.0283, 0.0214, 0.055, 0.0677, 0.0542, 0.0204, 0.0116, 0.1377, 0.0793, 0.0826, 0.0239, 0.0712, 0.0617, 0.0338, 0.0183, 0.0396, 0.047, 0.0537, 0.0443, 0.0392, 0.072, 0.0431, 0.0577, 0.0597, 0.0293, 0.1685, 0.1234, 0.0269, 0.0225, 0.0349, 0.0322, 0.0875, 0.0184, 0.0973, 0.0135, 0.0118, 0.0156]\n",
      "\n",
      "Determinantes (%):\n",
      " [0.1594, 0.1729, 0.1796, 0.1584, 0.1544, 0.165, 0.16, 0.1681, 0.2132, 0.1807, 0.2073, 0.1865, 0.17, 0.188, 0.1768, 0.196, 0.1642, 0.1464, 0.1658, 0.1541, 0.1356, 0.1387, 0.2373, 0.1712, 0.1932, 0.2047, 0.1941, 0.1372, 0.1273, 0.1563, 0.1781, 0.1662, 0.1773, 0.1597, 0.1842, 0.1736, 0.1839, 0.1807, 0.1831, 0.1018, 0.1747, 0.138, 0.1845, 0.1737, 0.165, 0.1731, 0.1695, 0.1389, 0.1722, 0.1377, 0.1804, 0.1553, 0.2011, 0.1681, 0.1988, 0.2035, 0.1419, 0.2245, 0.1845, 0.1713, 0.126, 0.1586, 0.1674, 0.1664, 0.2058, 0.1637, 0.1505, 0.2032, 0.1898, 0.1465, 0.1815, 0.1692, 0.1642, 0.161, 0.1506, 0.1662, 0.1404, 0.1631, 0.1778, 0.1642, 0.1319, 0.1979, 0.1506, 0.1742, 0.1733, 0.1569, 0.1749, 0.2045, 0.1623, 0.1782, 0.176, 0.1669, 0.1742, 0.1485, 0.1547, 0.1469, 0.1759, 0.1701, 0.1429, 0.1649, 0.1791, 0.1635, 0.1614, 0.1659, 0.1579, 0.1959, 0.139, 0.1766, 0.1986, 0.1534, 0.1327, 0.1454, 0.1824, 0.1794, 0.1332, 0.1534, 0.1908, 0.1555, 0.1331, 0.1694, 0.1682, 0.1614, 0.1773, 0.1749, 0.1491, 0.167, 0.1796, 0.1682, 0.1555, 0.1622, 0.1739, 0.1658, 0.1444, 0.1557, 0.151, 0.1723, 0.1973, 0.1827, 0.1705, 0.1991, 0.1857, 0.1366, 0.1704, 0.174, 0.1891, 0.1648, 0.1944, 0.142, 0.1472, 0.1451, 0.1652, 0.1827, 0.1769, 0.1393, 0.1495]\n",
      "\n",
      "Conjunções (%):\n",
      " [0.0406, 0.0489, 0.0372, 0.0435, 0.0395, 0.0275, 0.0375, 0.0406, 0.0312, 0.0248, 0.0296, 0.0289, 0.0433, 0.0329, 0.0522, 0.0423, 0.0381, 0.0426, 0.0411, 0.028, 0.0359, 0.0453, 0.0169, 0.0411, 0.0366, 0.0184, 0.0216, 0.0427, 0.0364, 0.0324, 0.0582, 0.0451, 0.0443, 0.0371, 0.0307, 0.0303, 0.0322, 0.037, 0.0446, 0.0442, 0.0342, 0.0265, 0.0406, 0.0434, 0.0287, 0.0269, 0.046, 0.0429, 0.0274, 0.0419, 0.0272, 0.0539, 0.0374, 0.0383, 0.038, 0.0444, 0.026, 0.0471, 0.0388, 0.055, 0.0386, 0.0476, 0.0503, 0.0472, 0.0343, 0.038, 0.0561, 0.0384, 0.0326, 0.0438, 0.0395, 0.0458, 0.0515, 0.036, 0.033, 0.0409, 0.069, 0.0326, 0.0298, 0.0434, 0.0469, 0.0521, 0.0423, 0.0372, 0.0312, 0.0344, 0.0474, 0.0394, 0.0504, 0.0399, 0.0239, 0.0315, 0.0333, 0.0364, 0.0409, 0.0454, 0.0293, 0.0434, 0.0507, 0.0399, 0.0397, 0.0569, 0.0278, 0.0356, 0.0436, 0.0418, 0.0505, 0.0413, 0.0213, 0.0304, 0.0618, 0.0524, 0.0557, 0.0604, 0.0355, 0.0291, 0.0378, 0.0264, 0.0461, 0.0345, 0.0328, 0.0361, 0.0456, 0.0491, 0.0411, 0.0316, 0.0324, 0.0321, 0.0496, 0.0485, 0.0407, 0.036, 0.0457, 0.0423, 0.0508, 0.0367, 0.0316, 0.037, 0.0365, 0.0178, 0.0469, 0.0424, 0.0339, 0.0249, 0.0227, 0.0466, 0.037, 0.0361, 0.0292, 0.0343, 0.0497, 0.044, 0.042, 0.0473, 0.081]\n",
      "\n",
      "Advérbios (%):\n"
     ]
    },
    {
     "name": "stdout",
     "output_type": "stream",
     "text": [
      " [0.0464, 0.0169, 0.0482, 0.0373, 0.0305, 0.0475, 0.03, 0.0377, 0.0416, 0.0576, 0.0547, 0.045, 0.03, 0.0446, 0.0638, 0.0379, 0.0411, 0.0851, 0.0525, 0.0518, 0.0523, 0.0507, 0.0212, 0.0525, 0.0601, 0.0577, 0.0216, 0.0535, 0.0333, 0.059, 0.0582, 0.0592, 0.0788, 0.0656, 0.0517, 0.0523, 0.023, 0.0657, 0.0399, 0.0546, 0.0223, 0.0624, 0.0258, 0.0535, 0.0426, 0.0328, 0.0479, 0.0429, 0.0548, 0.0868, 0.0495, 0.0491, 0.0345, 0.0649, 0.0614, 0.0152, 0.0312, 0.034, 0.066, 0.0398, 0.0823, 0.077, 0.0555, 0.04, 0.0422, 0.0623, 0.0663, 0.0609, 0.0496, 0.071, 0.0605, 0.0329, 0.0858, 0.0614, 0.0603, 0.0708, 0.0714, 0.0538, 0.0719, 0.0543, 0.0469, 0.0309, 0.0618, 0.0461, 0.0775, 0.0464, 0.0581, 0.0394, 0.0581, 0.0783, 0.0522, 0.0698, 0.0375, 0.0451, 0.0639, 0.0561, 0.0466, 0.0755, 0.0614, 0.0725, 0.0609, 0.0496, 0.0529, 0.0542, 0.0591, 0.0385, 0.065, 0.0314, 0.055, 0.0509, 0.0824, 0.0534, 0.0466, 0.0409, 0.0647, 0.0629, 0.0526, 0.0487, 0.086, 0.0444, 0.0599, 0.07, 0.069, 0.0503, 0.0476, 0.0361, 0.0275, 0.0719, 0.0754, 0.0504, 0.0491, 0.0502, 0.0603, 0.0729, 0.0761, 0.0706, 0.0496, 0.0482, 0.0447, 0.0609, 0.0494, 0.0557, 0.0809, 0.0594, 0.043, 0.0508, 0.0542, 0.0411, 0.0614, 0.072, 0.0594, 0.0827, 0.0555, 0.0565, 0.053]\n",
      "\n",
      "Adposições (%):\n",
      " [0.0899, 0.1222, 0.0832, 0.1335, 0.1472, 0.1225, 0.125, 0.1072, 0.1075, 0.116, 0.1071, 0.1029, 0.1, 0.124, 0.1014, 0.098, 0.1378, 0.0776, 0.1034, 0.1317, 0.134, 0.072, 0.089, 0.1096, 0.0979, 0.1417, 0.1105, 0.1138, 0.1394, 0.1032, 0.1096, 0.107, 0.1034, 0.1055, 0.1325, 0.1185, 0.131, 0.1396, 0.1432, 0.1711, 0.1182, 0.1323, 0.107, 0.1056, 0.1437, 0.1463, 0.1207, 0.1407, 0.092, 0.0883, 0.1261, 0.1474, 0.1092, 0.0988, 0.0906, 0.1076, 0.1445, 0.115, 0.1165, 0.0948, 0.1208, 0.1157, 0.0971, 0.1094, 0.1003, 0.1478, 0.0995, 0.0903, 0.1218, 0.1246, 0.1247, 0.1504, 0.0748, 0.1038, 0.1463, 0.0981, 0.101, 0.1028, 0.1254, 0.1004, 0.1354, 0.1107, 0.1145, 0.0999, 0.0895, 0.1233, 0.1253, 0.1351, 0.1204, 0.063, 0.1521, 0.1012, 0.1108, 0.1237, 0.1061, 0.1175, 0.1328, 0.1102, 0.1041, 0.087, 0.1108, 0.1007, 0.1138, 0.123, 0.1271, 0.1049, 0.1227, 0.1419, 0.1082, 0.1165, 0.0892, 0.1098, 0.1033, 0.103, 0.0749, 0.1181, 0.1135, 0.1173, 0.109, 0.1382, 0.1304, 0.1061, 0.1244, 0.1234, 0.1247, 0.1174, 0.1278, 0.1086, 0.1164, 0.1236, 0.1262, 0.1178, 0.1152, 0.1251, 0.0952, 0.113, 0.1065, 0.1087, 0.1404, 0.0877, 0.1158, 0.1154, 0.0865, 0.105, 0.128, 0.1078, 0.0966, 0.137, 0.1365, 0.1406, 0.1263, 0.104, 0.1184, 0.1288, 0.1121]\n",
      "\n",
      "Numerais (%):\n",
      " [0.0116, 0.0132, 0.0175, 0.0124, 0.018, 0.04, 0.0, 0.0203, 0.0, 0.0071, 0.0023, 0.0, 0.04, 0.0058, 0.0029, 0.0, 0.0147, 0.01, 0.0181, 0.0364, 0.0131, 0.0267, 0.0127, 0.0068, 0.0065, 0.0262, 0.0162, 0.0057, 0.0, 0.0118, 0.0068, 0.0, 0.0, 0.0086, 0.0145, 0.0083, 0.0207, 0.0185, 0.0047, 0.0044, 0.0103, 0.0208, 0.0111, 0.013, 0.0482, 0.0239, 0.0067, 0.0034, 0.0157, 0.003, 0.0301, 0.0222, 0.0115, 0.0029, 0.0088, 0.0129, 0.0065, 0.0164, 0.0019, 0.0031, 0.0, 0.0353, 0.0026, 0.0231, 0.0132, 0.0148, 0.0255, 0.0023, 0.0142, 0.0211, 0.0074, 0.04, 0.011, 0.0106, 0.0115, 0.0109, 0.0025, 0.0147, 0.0257, 0.0163, 0.0017, 0.009, 0.0271, 0.0234, 0.0096, 0.0296, 0.0229, 0.0056, 0.0034, 0.0046, 0.0246, 0.0164, 0.0133, 0.016, 0.0179, 0.0174, 0.0138, 0.02, 0.0174, 0.0109, 0.0102, 0.0175, 0.0159, 0.0267, 0.0013, 0.0182, 0.009, 0.0248, 0.0177, 0.0476, 0.0023, 0.0455, 0.0132, 0.0107, 0.0901, 0.0015, 0.0181, 0.0883, 0.0273, 0.0082, 0.0246, 0.0192, 0.0135, 0.0228, 0.0051, 0.0248, 0.0146, 0.0138, 0.0048, 0.0079, 0.0112, 0.0109, 0.0037, 0.0099, 0.0317, 0.024, 0.0137, 0.0146, 0.0328, 0.0178, 0.0083, 0.0133, 0.0071, 0.0083, 0.0181, 0.0166, 0.0119, 0.005, 0.0107, 0.0266, 0.0119, 0.0173, 0.015, 0.0039, 0.0187]\n",
      "\n",
      "Palavras desconhecidas:\n",
      " [thinking, eye, tracking, H+, peer, loss, day, band, gap, screen, receptor, binding, domain, in, in, in, drug, screening, old, school, twist, in, natura]\n"
     ]
    }
   ],
   "source": [
    "print(\"Substantivos (%):\\n\",nNounsTotal)\n",
    "print(\"\\nAdjetivos (%):\\n\",nAdjTotal)\n",
    "print(\"\\nVerbos (%):\\n\",nVerbTotal)\n",
    "print(\"\\nEntidades nomeadas (%):\\n\",nNesTotal)\n",
    "print(\"\\nDeterminantes (%):\\n\",nDetTotal)\n",
    "print(\"\\nConjunções (%):\\n\",nConjTotal)\n",
    "print(\"\\nAdvérbios (%):\\n\",nAdvTotal)\n",
    "print(\"\\nAdposições (%):\\n\",nAdpTotal)\n",
    "print(\"\\nNumerais (%):\\n\",nNumTotal)\n",
    "print(\"\\nPalavras desconhecidas:\\n\",palavras_desconhecidas)"
   ]
  },
  {
   "cell_type": "markdown",
   "metadata": {},
   "source": [
    "Criação do atributo 'pergunta'."
   ]
  },
  {
   "cell_type": "code",
   "execution_count": 22,
   "metadata": {},
   "outputs": [
    {
     "name": "stdout",
     "output_type": "stream",
     "text": [
      "Há uma pergunta no título?\n",
      " [1, 0, 1, 0, 0, 0, 1, 1, 1, 0, 0, 1, 0, 0, 1, 0, 1, 1, 0, 0, 1, 1, 1, 1, 0, 1, 0, 1, 0, 0, 1, 1, 0, 0, 0, 0, 0, 0, 0, 1, 0, 0, 0, 1, 1, 0, 0, 1, 0, 0, 0, 1, 0, 0, 1, 0, 0, 0, 0, 0, 1, 1, 1, 0, 0, 0, 0, 0, 1, 1, 0, 0, 0, 1, 0, 1, 1, 0, 0, 0, 0, 0, 1, 1, 1, 0, 0, 0, 0, 1, 0, 0, 0, 0, 1, 1, 0, 0, 0, 1, 1, 0, 0, 0, 1, 1, 0, 0, 1, 0, 1, 0, 0, 0, 1, 0, 1, 0, 1, 0, 1, 0, 0, 1, 1, 1, 1, 0, 1, 0, 1, 1, 1, 1, 1, 0, 0, 0, 0, 0, 0, 1, 0, 1, 0, 1, 0, 0, 0, 1, 0, 0, 1, 0, 1]\n"
     ]
    }
   ],
   "source": [
    "titulos = []\n",
    "for i in range (len(textos_por_paragrafo)):\n",
    "    titulos.append(textos_por_paragrafo[i][0])\n",
    "    \n",
    "pergunta = []\n",
    "for titulo in titulos:\n",
    "    if(titulo.find('?') != -1):\n",
    "        pergunta.append(1)\n",
    "    else:\n",
    "        pergunta.append(0)\n",
    "\n",
    "print(\"Há uma pergunta no título?\\n\", pergunta)"
   ]
  },
  {
   "cell_type": "markdown",
   "metadata": {},
   "source": [
    "Visualizando todos os títulos e todos os autores."
   ]
  },
  {
   "cell_type": "code",
   "execution_count": 23,
   "metadata": {},
   "outputs": [
    {
     "name": "stdout",
     "output_type": "stream",
     "text": [
      "Livro - Professor, para que estudo isso?\n",
      "Coleção Contém Química\n",
      "O que é um podcast? É tipo rádio? Como faço para começar a ouvir?\n",
      "Nojo no mundo animal\n",
      "Prêmio Nobel 2017 – Microscopia Eletrônica com Criogenia\n",
      "Que seja eterno enquanto dure...\n",
      "O que dá cor aos fogos de artifício?\n",
      "Por que café descafeinado tem gosto e aroma de café?\n",
      "Arco-íris de sons? O que seria?\n",
      "[ENTREVISTA] Água em Marte: os próximos passos para a pesquisa espacial\n",
      "Lua de Sangue: entenda como funciona o Eclipse\n",
      "Por que o céu é azul?\n",
      "Estratégias de contracepção masculina\n",
      "Os alquimistas estão chegando\n",
      "E se acabássemos com o efeito estufa?\n",
      "A ciência que você vê, mas não percebe!\n",
      "Pílula anticoncepcional para o homem: é uma realidade?\n",
      "Se sentindo um impostor?\n",
      "O voo de Ícaro\n",
      "O Roubo da Medalha Fields\n",
      "Colesterol pode ser bom?\n",
      "Números imaginários… Mas o quê? Por quê?\n",
      "Viagra feminino existe?\n",
      "O CO2 é o grande vilão do efeito estufa?\n",
      "Crônica de uma tragédia anunciada: a morte assistida do Museu Nacional\n",
      "O que as vacas têm a ver com o efeito estufa?\n",
      "O sol faz bem para o seu coração\n",
      "Como ajudar a ciência?\n",
      "Pilhas de primeira e segunda geração\n",
      "A gente evolui, mas não progride!\n",
      "Todo remédio é uma droga?\n",
      "Posso beber água de chuva?\n",
      "Atenção colecionadores de conchas, últimas unidades!\n",
      "Preste atenção! Neurociência explica o que você viu mas não viu\n",
      "Resenha – O último teorema de Fermat\n",
      "Dopamina: a molécula da síndrome de Parkinson\n",
      "Prêmio Nobel em Medicina 2018 – Imunologia e Câncer\n",
      "Sábio era o Soneca\n",
      "Pesquisa, extensão e gerenciamento\n",
      "Microalgas?\n",
      "[Física e Química] Prêmio Nobel premia pesquisas com aplicações biológicas\n",
      "O Brasil nunca ganhou o Nobel, mas…\n",
      "O mistério da aurora\n",
      "O que é água alcalina?\n",
      "Quantos gramas?\n",
      "Sirius, a “estrela mais brilhante do céu noturno”, é inaugurado!\n",
      "O que (não) é quântica!\n",
      "Qual o papel do professor universitário?\n",
      "Natal, ano novo e o método científico\n",
      "Minha amiga samambaia! Tudo ouve, tudo vê!\n",
      "[RETROSPECTIVA] 10 fatos do mundo da ciência em 2018\n",
      "“Venho dos braços de Morfeu” – o que o ópio, a morfina e a heroína nos contam?\n",
      "Resenha – As dez maiores descobertas da medicina\n",
      "O POP não poupa ninguém\n",
      "Divulgação científica, jornalismo científico ou comunicação científica?\n",
      "ASTROEM\n",
      "Produtos de Reações Químicas\n",
      "Turma da Mônica e a ciência\n",
      "Resenha – O fim da eternidade – Isaac Asimov\n",
      "Lágrima\n",
      "Jogos deixam VOCÊ violento?\n",
      "Que delícia de mar, hein?!\n",
      "O que é um artigo científico?\n",
      "Uma breve história (da resistência) da ciência\n",
      "A posição do polo norte magnético da Terra foi redefinida\n",
      "Golden Show: Os museus do ouro na Colômbia\n",
      "Mudanças climáticas globais e a era dos walking deads\n",
      "Resenha – O menino que descobriu o vento\n",
      "A quantos graus ferve a água?\n",
      "Doação de Sangue: o que vem depois do fim da picada?\n",
      "Muito além de Mona Lisa, 500 anos de da Vinci\n",
      "Tempestade de 1 bilhão de volts é descoberta com telescópio de múons\n",
      "Maternidade na carreira acadêmica: depoimento\n",
      "Será que basta olhos para ver o arco-íris? Como os animais enxergam cores?\n",
      "“Tenho direito a quatro ligações!!!” – disse o Carbono\n",
      "A hora do sapo beber água, chega?\n",
      "O sapo não lava o pé, mas tem chulé?\n",
      "Aversão à perda e efeito dotação: uma pequena introdução\n",
      "1995: Stonewall – A luta pelo direito de amar\n",
      "Quando a ciência liberta: a pesquisa que separa preconceito de doença\n",
      "Microalgas para decoração\n",
      "A divulgação científica na UFABC\n",
      "Existe cura para o autismo?\n",
      "Se o homem foi à Lua em 1969, por que nunca voltou?\n",
      "Será que Einstein pode estar errado?\n",
      "2019 é o Ano Internacional da Tabela Periódica\n",
      "Museo de la Memoria y los Derechos Humanos\n",
      "Cores para além do colorido\n",
      "Investimentos públicos em ciência e tecnologia: alguns porquês sim\n",
      "“Mãe, porque a gente tem que tomar vacina?”\n",
      "Grafeno e o prêmio Nobel de Física de 2010\n",
      "Onde nenhum homem jamais esteve (ainda): Star Trek como precursor de invenções\n",
      "A importância da ciência básica e do investimento em ciência\n",
      "Ada Lovelace e os números de Bernoulli\n",
      "Quem foi Emmy Noether?\n",
      "Defensivos agrícolas ou agrotóxicos? Modernização ou vilania?\n",
      "Nobel de Medicina e Fisiologia de 2019\n",
      "Plástico: para sempre teu\n",
      "Além do POP, tem o HAP e o que essa sopa de letrinhas tem a ver com “o dia que virou noite”\n",
      "Por que as tatuagens são permanentes?\n",
      "Petróleo na praia: limpou tá limpo! Certo ou errado?\n",
      "Ostrava: cultura, história, ciência e tecnologia em uma só cidade\n",
      "O que falam sobre os jovens no Brasil não é sério\n",
      "Os Mitos e Mistérios de Saturno\n",
      "Por que usamos “cloro” (ou água sanitária) para limpar a nossa casa?\n",
      "O que acontece no seu corpo após tomar aquela cerveja gelada?\n",
      "Perigos de um cabelo liso e duradouro\n",
      "A química por trás da depressão\n",
      "Por que aquele saboroso cafezinho espanta o nosso sono?\n",
      "10 momentos da ciência em 2019\n",
      "O que são explicações exploráveis?\n",
      "A percepção dos brasileiros sobre a ciência\n",
      "A química dos sabores\n",
      "As especiarias e os aromas\n",
      "Existem infinitos maiores que outros?\n",
      "Seres Bioluminescentes\n",
      "O que tem a ver um tear com a era dos computadores?\n",
      "O Paradoxo de Simpson te mostra que nem tudo é o que parece\n",
      "Novo coronavírus no Brasil, qual deve ser o tamanho de sua preocupação?\n",
      "Diatomáceas: do oxigênio ao creme dental\n",
      "O que é twistrônica e o que o grafeno tem a ver com isso?\n",
      "A turbulenta vida das estrelas\n",
      "Pesquisando no outro lado do mundo\n",
      "Máscaras contra o coronavírus: usar ou não usar?\n",
      "Como lidar com as crianças em tempos de isolamento?\n",
      "Como medir o surto do novo coronavírus?\n",
      "Qual a origem do novo coronavírus?\n",
      "Os barulhos no céu!\n",
      "Como matar um vírus?\n",
      "Cenário científico e estratégicas terapêuticas para a COVID-19\n",
      "Os dinossauros foram realmente extintos?\n",
      "E os morcegos, eles adoecem de Covid-19?\n",
      "Se sentindo enferrujado com essa quarentena? Que tal dar uma eletrizada nas coisas?\n",
      "O que um sapo tem em comum com uma pilha? Uma breve história sobre a ciência\n",
      "Qual a diferença entre correlação e causalidade?\n",
      "Não entre em pânico!\n",
      "Evolução: uma visão histórica\n",
      "Deixa o Sol entrar: Quarentena e Vitamina D\n",
      "Florence Nightingale, a mãe da enfermagem moderna\n",
      "Eugenia e a raiz histórica da beleza branca\n",
      "Os impactos da COVID-19 intensificados sobre a comunidade LGBTQIA+\n",
      "E. coli: o que é e para que é usada?\n",
      "Dark, viagem no tempo e a faixa de Moebius\n",
      "Dia Internacional do Rock: qual é o nível da relação entre rock e ciência?\n",
      "Johanna Döbereiner: a presença feminina que revolucionou a agricultura\n",
      "Teletransporte: ficção ou realidade?\n",
      "O efeito Hawthorne e a nossa vontade de melhorar\n",
      "Carne caramelizada: uma receita não-enzimática\n",
      "Participação de animais em pesquisa\n",
      "Como saber a situação da sua cidade frente ao novo coronavírus?\n",
      "O futuro da carne\n",
      "Amazônia: fatos e curiosidades\n",
      "O que está acontecendo com os insetos?\n",
      "Perigos na mistura de produtos de limpeza!\n",
      "Qual a diferença entre rinite e sinusite?\n"
     ]
    }
   ],
   "source": [
    "for i in range (len(textos_por_paragrafo)):\n",
    "    print(textos_por_paragrafo[i][0])"
   ]
  },
  {
   "cell_type": "code",
   "execution_count": 24,
   "metadata": {},
   "outputs": [
    {
     "name": "stdout",
     "output_type": "stream",
     "text": [
      "admin\n",
      "admin\n",
      "Marcelo Pena\n",
      "Camilo Angelucci\n",
      "Daniele Araújo\n",
      "Camilo Angelucci\n",
      "Ivanise Gaubeur, Naomi Akiba\n",
      "Emily Takeuchi\n",
      "Cassiano Aono\n",
      "Renato Cunha\n",
      "Manuela Rodrigues\n",
      "Fábio Furlan\n",
      "Carlos Alberto-Silva\n",
      "Victoria Baptista Dias Miotto, Ronei Miotto\n",
      "Janaína Garcia\n",
      "Vanessa Verdade\n",
      "Carlos Alberto-Silva\n",
      "Marcelo Pena\n",
      "Marcelo Leigui\n",
      "Camilo Angelucci\n",
      "Hugo Suffredini\n",
      "Camila Vieira\n",
      "Amedea Seabra\n",
      "Janaína Garcia\n",
      "Fabiana Rodrigues Costa Nunes\n",
      "Janaína Garcia\n",
      "Amedea Seabra\n",
      "Marcelo Pena\n",
      "Hugo Suffredini\n",
      "Vanessa Verdade\n",
      "Daniele Araújo\n",
      "Naomi Akiba\n",
      "Vanessa Verdade\n",
      "Gloria Santucci\n",
      "Attalya Felix\n",
      "Hugo Suffredini\n",
      "Daniele Araújo\n",
      "Marcelo S. Caetano, Raquel Fornari\n",
      "Carlos Alberto-Silva, Vanessa Verdade\n",
      "Livia Seno Ferreira Camargo\n",
      "Renato Cunha\n",
      "Cassiano Aono\n",
      "Fábio Furlan\n",
      "Janaína Garcia\n",
      "Marcelo Leigui\n",
      "Fábio Furlan\n",
      "Gabriela Dias, Michele Salvador\n",
      "Hugo Suffredini, Paula Homem de Mello\n",
      "Cassiano Aono\n",
      "Vanessa Verdade\n",
      "Renato Cunha\n",
      "Daniele Araújo\n",
      "Daniele Araújo\n",
      "Felipe Cesar\n",
      "Renato Cunha\n",
      "Wesley Góis\n",
      "Jhonathan Souza\n",
      "Marcelo Pena\n",
      "Jhonathan Souza\n",
      "Marcelo Pena\n",
      "Marcelo Pena\n",
      "Felipe Cesar, Gabriela Dias\n",
      "Paula Homem de Mello, Hugo Suffredini, Felipe Cesar\n",
      "Michele Salvador, Gabriela Dias\n",
      "Michele Salvador\n",
      "Paula Homem de Mello\n",
      "Vanessa Verdade\n",
      "Gabriela Dias\n",
      "Rodrigo Papai\n",
      "Cassiano Aono, Felipe Cesar\n",
      "Pedro Henrique Thiayamiti Santos, João Henrique Quintino Palhares\n",
      "Marcelo Leigui\n",
      "Vanessa Verdade\n",
      "Vanessa Verdade\n",
      "Jhonathan Souza\n",
      "Vanessa Verdade\n",
      "Vanessa Verdade\n",
      "Davi Duarte, Everson Silva\n",
      "Felipe Cesar\n",
      "Felipe Cesar\n",
      "Livia Seno Ferreira Camargo\n",
      "Marcelo Pena\n",
      "Vanessa Ludovico, Felipe Cesar\n",
      "Marcelo Pena\n",
      "Alysson Fabio Ferrari\n",
      "Patrícia Dantoni, Paula Homem de Mello\n",
      "Felipe Cesar, Paula Homem de Mello\n",
      "Paula Homem de Mello\n",
      "Felipe Cesar, Cassiano Aono\n",
      "Vanessa Verdade\n",
      "Luis Henrique de Lima\n",
      "Renato Cunha\n",
      "Marcelo Pena\n",
      "Mónica López\n",
      "Cassiano Aono, Laiz G. Chagas, Thariny Oliveira\n",
      "Vanessa Verdade\n",
      "Gabriela Dias, Cleiton Maciel\n",
      "Gabriela Dias\n",
      "Michele Salvador, Gabriela Dias\n",
      "Gabriel Mol\n",
      "Janaína Garcia\n",
      "Renato Cunha\n",
      "Cassiano Aono\n",
      "Jhonathan Souza\n",
      "Lanna Emilli Barbosa Lucchetti, Diego de Oliveira Rogério, André Luís Pesquero de Melo, Robert Maiory Alarcon Flores\n",
      "Jéssica Oliveira Aguiar Perez, Marcos Ferrer Lima, Renato Cunha\n",
      "Leonardo Henrique de Macedo, Vitória Aparecida Procópio, Miguel Tabanez, Leonardo Martins Carneiro\n",
      "Alícia Fortunato Batista, Susan Meirelles Dantas, Gabrielle Mathias Reis, Wagner José Odilon dos Santos\n",
      "Matheus Lopes Silva, Helen Reis Modesto, Wellington Diego da Ascenção\n",
      "Marcelo Pena\n",
      "Marcelo Pena\n",
      "Marcelo Pena\n",
      "Paula Homem de Mello, Hugo Suffredini\n",
      "Paula Homem de Mello, Hugo Suffredini\n",
      "Marcelo Pena\n",
      "Livia Seno Ferreira Camargo\n",
      "Mónica López\n",
      "Marcelo Pena\n",
      "Vanessa Verdade\n",
      "Milena do Nascimento\n",
      "Luis Henrique de Lima\n",
      "Renato Cunha\n",
      "Emily Takeuchi\n",
      "Gabi Dias\n",
      "Vanessa Ludovico\n",
      "Paula Bohnstedt\n",
      "Heloísa de Cássia\n",
      "Marcelo Leigui\n",
      "Gabi Dias\n",
      "Tiago Rodrigues\n",
      "Milena do Nascimento, Pedro Vinícius Rodrigues de Lima\n",
      "Mónica López\n",
      "Lanna Emilli\n",
      "Lanna Emilli\n",
      "Marcelo Pena\n",
      "Gabi Dias\n",
      "Milena do Nascimento\n",
      "Mónica López\n",
      "Milena do Nascimento\n",
      "Renata Orofino\n",
      "Felipe Cesar\n",
      "Livia Seno Ferreira Camargo\n",
      "Cassiano Aono, Felipe Cesar, Gabi Dias\n",
      "Renato Cunha\n",
      "Wagner R. de Souza\n",
      "Michele Salvador\n",
      "Renata Orofino\n",
      "Jhonathan Souza\n",
      "Ana Paula M. Arêas\n",
      "Marcelo Pena\n",
      "Gabriela Nascimento\n",
      "Célio Fernando Figueiredo Angolini\n",
      "Milena do Nascimento\n",
      "Márcia Guekezian\n",
      "Milena do Nascimento\n"
     ]
    }
   ],
   "source": [
    "for i in range (len(textos_por_paragrafo)):\n",
    "    print(textos_por_paragrafo[i][-1])"
   ]
  },
  {
   "cell_type": "markdown",
   "metadata": {},
   "source": [
    "Criação do atributo 'refs' e criando um grafo para exibir as relações entre os textos."
   ]
  },
  {
   "cell_type": "code",
   "execution_count": 25,
   "metadata": {},
   "outputs": [
    {
     "data": {
      "text/html": [
       "<div>\n",
       "<style scoped>\n",
       "    .dataframe tbody tr th:only-of-type {\n",
       "        vertical-align: middle;\n",
       "    }\n",
       "\n",
       "    .dataframe tbody tr th {\n",
       "        vertical-align: top;\n",
       "    }\n",
       "\n",
       "    .dataframe thead th {\n",
       "        text-align: right;\n",
       "    }\n",
       "</style>\n",
       "<table border=\"1\" class=\"dataframe\">\n",
       "  <thead>\n",
       "    <tr style=\"text-align: right;\">\n",
       "      <th></th>\n",
       "      <th>Post</th>\n",
       "      <th>Área</th>\n",
       "      <th>Rel1</th>\n",
       "      <th>Rel2</th>\n",
       "      <th>Rel3</th>\n",
       "    </tr>\n",
       "  </thead>\n",
       "  <tbody>\n",
       "    <tr>\n",
       "      <th>0</th>\n",
       "      <td>Livro – Professor, para que estudo isso?</td>\n",
       "      <td>Ciência</td>\n",
       "      <td>Coleção Contém Química</td>\n",
       "      <td>O que é um podcast? É tipo rádio? Como faço pa...</td>\n",
       "      <td>Qual o papel do professor universitário?</td>\n",
       "    </tr>\n",
       "    <tr>\n",
       "      <th>1</th>\n",
       "      <td>Coleção Contém Química</td>\n",
       "      <td>Química</td>\n",
       "      <td>Livro – Professor, para que estudo isso?</td>\n",
       "      <td>O que é um podcast? É tipo rádio? Como faço pa...</td>\n",
       "      <td>A química dos sabores</td>\n",
       "    </tr>\n",
       "    <tr>\n",
       "      <th>2</th>\n",
       "      <td>O que é um podcast? É tipo rádio? Como faço pa...</td>\n",
       "      <td>Tecnologia</td>\n",
       "      <td>Coleção Contém Química</td>\n",
       "      <td>Livro – Professor, para que estudo isso?</td>\n",
       "      <td>A ciência que você vê, mas não percebe!</td>\n",
       "    </tr>\n",
       "    <tr>\n",
       "      <th>3</th>\n",
       "      <td>Nojo no mundo animal</td>\n",
       "      <td>Biologia</td>\n",
       "      <td>Coleção Contém Química</td>\n",
       "      <td>Livro – Professor, para que estudo isso?</td>\n",
       "      <td>Que seja eterno enquanto dure…</td>\n",
       "    </tr>\n",
       "    <tr>\n",
       "      <th>4</th>\n",
       "      <td>Prêmio Nobel 2017 – Microscopia Eletrônica com...</td>\n",
       "      <td>Química</td>\n",
       "      <td>Coleção Contém Química</td>\n",
       "      <td>Prêmio Nobel em Medicina 2018 – Imunologia e C...</td>\n",
       "      <td>[Física e Química] Prêmio Nobel premia pesquis...</td>\n",
       "    </tr>\n",
       "  </tbody>\n",
       "</table>\n",
       "</div>"
      ],
      "text/plain": [
       "                                                Post        Área  \\\n",
       "0           Livro – Professor, para que estudo isso?     Ciência   \n",
       "1                             Coleção Contém Química     Química   \n",
       "2  O que é um podcast? É tipo rádio? Como faço pa...  Tecnologia   \n",
       "3                               Nojo no mundo animal    Biologia   \n",
       "4  Prêmio Nobel 2017 – Microscopia Eletrônica com...     Química   \n",
       "\n",
       "                                       Rel1  \\\n",
       "0                    Coleção Contém Química   \n",
       "1  Livro – Professor, para que estudo isso?   \n",
       "2                    Coleção Contém Química   \n",
       "3                    Coleção Contém Química   \n",
       "4                    Coleção Contém Química   \n",
       "\n",
       "                                                Rel2  \\\n",
       "0  O que é um podcast? É tipo rádio? Como faço pa...   \n",
       "1  O que é um podcast? É tipo rádio? Como faço pa...   \n",
       "2           Livro – Professor, para que estudo isso?   \n",
       "3           Livro – Professor, para que estudo isso?   \n",
       "4  Prêmio Nobel em Medicina 2018 – Imunologia e C...   \n",
       "\n",
       "                                                Rel3  \n",
       "0           Qual o papel do professor universitário?  \n",
       "1                              A química dos sabores  \n",
       "2            A ciência que você vê, mas não percebe!  \n",
       "3                     Que seja eterno enquanto dure…  \n",
       "4  [Física e Química] Prêmio Nobel premia pesquis...  "
      ]
     },
     "execution_count": 25,
     "metadata": {},
     "output_type": "execute_result"
    }
   ],
   "source": [
    "col_list = [\"Post\",\"Área\",\"Rel1\",\"Rel2\",\"Rel3\"]\n",
    "relacionados = pd.read_excel(\"../Dados/dataset-manual.xlsx\", usecols=col_list)\n",
    "relacionados.head()"
   ]
  },
  {
   "cell_type": "code",
   "execution_count": 26,
   "metadata": {},
   "outputs": [
    {
     "name": "stdout",
     "output_type": "stream",
     "text": [
      "Arestas:\n",
      " [[1, 0], [8, 0], [15, 0], [19, 0], [2, 0], [3, 0], [7, 0], [10, 0], [21, 0], [24, 0], [34, 0], [13, 0], [20, 0], [47, 0], [48, 0], [0, 1], [2, 1], [3, 1], [4, 1], [7, 1], [10, 1], [20, 1], [34, 1], [13, 1], [23, 1], [28, 1], [48, 1], [50, 1], [112, 1], [25, 1], [85, 1], [153, 1], [0, 2], [1, 2], [17, 2], [110, 2], [8, 2], [27, 2], [81, 2], [109, 2], [5, 3], [16, 3], [148, 3], [19, 3], [76, 3], [40, 4], [30, 4], [36, 4], [41, 4], [90, 4], [12, 5], [33, 5], [3, 5], [16, 5], [19, 5], [135, 5], [42, 6], [8, 6], [15, 6], [73, 6], [11, 6], [31, 6], [56, 6], [87, 6], [108, 7], [22, 7], [11, 8], [13, 8], [73, 8], [127, 8], [18, 9], [31, 9], [55, 9], [143, 9], [43, 9], [38, 9], [40, 9], [61, 9], [11, 10], [18, 10], [55, 10], [83, 10], [26, 10], [69, 10], [103, 10], [45, 11], [87, 11], [127, 11], [6, 11], [26, 11], [31, 11], [15, 11], [18, 11], [23, 11], [42, 11], [43, 11], [22, 12], [16, 12], [70, 13], [17, 13], [24, 13], [23, 14], [25, 14], [39, 14], [66, 14], [100, 14], [17, 15], [24, 15], [27, 15], [28, 15], [29, 15], [32, 15], [46, 15], [48, 15], [50, 15], [56, 15], [20, 15], [53, 15], [2, 15], [33, 15], [62, 15], [30, 16], [22, 16], [12, 16], [59, 16], [27, 17], [33, 17], [37, 17], [77, 17], [83, 17], [146, 17], [26, 18], [21, 18], [44, 18], [65, 18], [70, 18], [137, 18], [21, 19], [36, 19], [44, 19], [93, 19], [114, 19], [35, 20], [28, 20], [44, 21], [93, 21], [114, 21], [117, 21], [116, 21], [106, 22], [12, 22], [30, 22], [14, 23], [25, 23], [32, 23], [66, 23], [152, 23], [65, 24], [130, 24], [86, 24], [95, 24], [29, 24], [14, 25], [150, 25], [137, 26], [42, 26], [59, 26], [39, 26], [121, 26], [81, 27], [88, 27], [110, 27], [111, 27], [29, 27], [46, 27], [47, 27], [92, 27], [109, 27], [63, 27], [101, 27], [133, 28], [35, 28], [136, 29], [141, 29], [32, 29], [123, 29], [130, 29], [51, 30], [105, 30], [134, 30], [36, 30], [9, 31], [43, 31], [75, 31], [49, 31], [61, 31], [68, 31], [39, 32], [66, 32], [74, 32], [115, 32], [35, 33], [146, 33], [37, 33], [107, 33], [34, 33], [108, 33], [58, 34], [67, 34], [93, 34], [37, 35], [59, 35], [107, 35], [58, 35], [69, 35], [77, 35], [92, 35], [4, 36], [40, 36], [90, 36], [41, 36], [96, 36], [38, 37], [108, 37], [52, 37], [41, 38], [47, 38], [94, 38], [122, 38], [54, 38], [72, 38], [49, 39], [80, 39], [38, 39], [51, 39], [115, 39], [119, 39], [120, 40], [4, 40], [96, 41], [102, 41], [45, 41], [94, 41], [52, 42], [64, 42], [45, 42], [57, 42], [71, 42], [80, 42], [127, 42], [6, 42], [53, 42], [112, 42], [61, 43], [68, 43], [75, 43], [82, 43], [104, 43], [46, 43], [60, 43], [64, 44], [121, 45], [55, 45], [71, 45], [53, 46], [82, 46], [84, 46], [63, 46], [145, 46], [94, 47], [0, 47], [54, 47], [72, 47], [110, 47], [54, 48], [62, 48], [64, 48], [57, 48], [51, 49], [109, 50], [69, 51], [56, 51], [60, 51], [99, 51], [67, 52], [138, 52], [96, 52], [128, 52], [118, 52], [57, 53], [63, 53], [95, 53], [97, 53], [98, 53], [78, 53], [123, 53], [62, 54], [81, 54], [58, 55], [71, 55], [83, 55], [103, 55], [121, 55], [85, 56], [153, 56], [65, 56], [105, 56], [106, 56], [98, 56], [132, 56], [147, 56], [60, 57], [89, 57], [88, 57], [91, 57], [124, 57], [143, 57], [142, 58], [145, 58], [5, 58], [67, 58], [91, 58], [135, 58], [89, 59], [88, 59], [49, 59], [80, 59], [113, 59], [151, 61], [68, 61], [78, 61], [72, 62], [78, 63], [86, 63], [101, 63], [133, 63], [70, 65], [79, 65], [86, 65], [152, 66], [14, 66], [95, 66], [111, 66], [102, 67], [142, 67], [111, 68], [9, 68], [75, 68], [104, 68], [79, 69], [99, 69], [10, 69], [5, 70], [122, 72], [124, 72], [87, 73], [148, 73], [76, 73], [90, 74], [97, 74], [98, 74], [132, 74], [76, 75], [104, 75], [132, 75], [9, 75], [102, 76], [146, 77], [107, 77], [134, 77], [79, 78], [140, 78], [143, 78], [139, 79], [82, 79], [140, 79], [115, 80], [119, 80], [103, 83], [100, 84], [142, 84], [6, 87], [99, 87], [73, 87], [105, 87], [139, 87], [92, 88], [101, 88], [118, 89], [124, 89], [125, 89], [128, 89], [120, 90], [74, 90], [135, 91], [118, 92], [116, 93], [114, 93], [117, 93], [138, 93], [144, 93], [144, 94], [84, 94], [116, 94], [138, 94], [122, 94], [97, 95], [52, 96], [120, 96], [100, 98], [106, 99], [141, 104], [153, 104], [147, 105], [89, 105], [112, 107], [113, 107], [85, 107], [7, 108], [151, 109], [50, 109], [141, 109], [117, 111], [149, 111], [113, 112], [1, 112], [147, 113], [152, 115], [119, 115], [134, 117], [123, 118], [125, 118], [126, 118], [74, 120], [125, 123], [126, 123], [129, 123], [149, 123], [154, 123], [137, 124], [126, 125], [128, 125], [129, 125], [149, 125], [131, 125], [129, 126], [131, 126], [148, 128], [131, 129], [140, 129], [136, 130], [136, 131], [133, 132], [154, 134], [139, 136], [130, 136], [144, 138], [154, 138], [91, 142], [84, 142], [145, 142], [77, 146], [150, 147], [150, 148], [151, 150]]\n"
     ]
    }
   ],
   "source": [
    "edges = []\n",
    "    \n",
    "for i in range (len(relacionados)):\n",
    "    rel = []\n",
    "    rel.append(list(relacionados[relacionados['Post'][i] == relacionados['Rel1']].index))\n",
    "    rel.append(list(relacionados[relacionados['Post'][i] == relacionados['Rel2']].index))\n",
    "    rel.append(list(relacionados[relacionados['Post'][i] == relacionados['Rel3']].index))\n",
    "\n",
    "    for j in range (len(rel)):\n",
    "        for k in range (len(rel[j])):\n",
    "            edges.append([rel[j][k],i])\n",
    "    \n",
    "print(\"Arestas:\\n\", edges)"
   ]
  },
  {
   "cell_type": "code",
   "execution_count": 27,
   "metadata": {
    "scrolled": false
   },
   "outputs": [],
   "source": [
    "g = ig.Graph(directed=True)\n",
    "g.add_vertices(len(relacionados))\n",
    "\n",
    "for i in range(len(g.vs)):\n",
    "    g.vs[i][\"id\"] = i\n",
    "    g.vs[i][\"area\"] = relacionados['Área'][i]\n",
    "    g.vs[i][\"label\"] = str(i)\n",
    "\n",
    "g.add_edges(edges)"
   ]
  },
  {
   "cell_type": "code",
   "execution_count": 28,
   "metadata": {},
   "outputs": [
    {
     "name": "stdout",
     "output_type": "stream",
     "text": [
      "Número de vértices no grafo: 155\n",
      "Número de arestas no grafo: 465\n",
      "Grau máximo no grafo: 20\n"
     ]
    }
   ],
   "source": [
    "print(f\"Número de vértices no grafo: {g.vcount()}\")\n",
    "print(f\"Número de arestas no grafo: {g.ecount()}\")\n",
    "print(f\"Grau máximo no grafo: {g.maxdegree()}\")"
   ]
  },
  {
   "cell_type": "code",
   "execution_count": 29,
   "metadata": {},
   "outputs": [
    {
     "name": "stdout",
     "output_type": "stream",
     "text": [
      "Referências:\n",
      " [15, 17, 8, 5, 5, 6, 8, 2, 4, 8, 7, 11, 2, 3, 5, 15, 4, 6, 6, 5, 2, 5, 3, 5, 5, 2, 5, 11, 2, 5, 4, 6, 4, 6, 3, 7, 5, 3, 6, 6, 2, 4, 10, 7, 1, 3, 5, 5, 4, 1, 1, 4, 5, 7, 2, 5, 8, 6, 6, 5, 0, 3, 1, 4, 0, 3, 4, 2, 4, 3, 1, 0, 2, 3, 4, 4, 1, 3, 3, 3, 2, 0, 0, 1, 2, 0, 0, 5, 2, 4, 2, 1, 1, 5, 5, 1, 2, 0, 1, 1, 0, 0, 0, 0, 2, 2, 0, 3, 1, 3, 0, 2, 2, 1, 0, 2, 0, 1, 3, 0, 1, 0, 0, 5, 1, 5, 2, 0, 1, 2, 1, 1, 1, 0, 1, 0, 2, 0, 2, 0, 0, 0, 3, 0, 0, 0, 1, 1, 1, 0, 1, 0, 0, 0, 0]\n"
     ]
    }
   ],
   "source": [
    "refs = []\n",
    "#layers = []\n",
    "for i in range (len(relacionados)):\n",
    "    refs.append(len(g.neighbors(i, mode='IN')))\n",
    "    #layers.append(abs(refs[i]-17))\n",
    "print(\"Referências:\\n\", refs)\n",
    "#print(layers)"
   ]
  },
  {
   "cell_type": "code",
   "execution_count": 30,
   "metadata": {},
   "outputs": [],
   "source": [
    "visual_style = {}\n",
    "out_name = \"../Imagens/graph.pdf\"\n",
    "\n",
    "color_dict = {\"Biologia\": \"green\",\n",
    "              \"Ciência\": \"red\",\n",
    "              \"Química\": \"yellow\",\n",
    "              \"Física\": \"blue\",\n",
    "              \"História\": \"pink\",\n",
    "              \"Medicina\": \"cyan\",\n",
    "              \"Astronomia\": \"orange\",\n",
    "              \"Atualidades\": \"brown\",\n",
    "              \"Matemática\": \"olive\",\n",
    "              \"Psicologia\": \"purple\",\n",
    "              \"Tecnologia\": \"gray\"}\n",
    "\n",
    "visual_style[\"bbox\"] = (8000,4000)\n",
    "visual_style[\"margin\"] = 100\n",
    "visual_style[\"vertex_size\"] = 70\n",
    "visual_style[\"vertex_label_size\"] = 30\n",
    "visual_style[\"edge_curved\"] = True\n",
    "visual_style[\"edge_widht\"] = 2\n",
    "edges_colors = []\n",
    "for i in range (len(g.es)): edges_colors.append(g.vs[g.es[i].source][\"area\"])\n",
    "visual_style[\"edge_color\"] = [color_dict[area] for area in edges_colors]\n",
    "visual_style[\"vertex_color\"] = [color_dict[area] for area in g.vs[\"area\"]]\n",
    "visual_style[\"layout\"] = g.layout_lgl()\n",
    "\n",
    "ig.plot(g, out_name, **visual_style);\n",
    "g.write(f=\"../Imagens/grafo.graphml\",format=\"graphml\")"
   ]
  },
  {
   "cell_type": "markdown",
   "metadata": {},
   "source": [
    "Exemplo de atributos para o texto *i*."
   ]
  },
  {
   "cell_type": "code",
   "execution_count": 31,
   "metadata": {},
   "outputs": [
    {
     "name": "stdout",
     "output_type": "stream",
     "text": [
      "Texto 149 - Como saber a situação da sua cidade frente ao novo coronavírus\n",
      "Autor: Marcelo Pen\n",
      "Número de palavras: 903\n",
      "Número de parágrafos: 16\n",
      "Número de substantivos: 0.2802\n",
      "Número de adjetivos: 0.0631\n",
      "Número de verbos: 0.1274\n",
      "Número de Entidades Nomeadas: 0.0875\n",
      "Número de Determinantes: 0.1451\n",
      "Número de Conjunções: 0.0343\n",
      "Número de Advérbios: 0.072\n",
      "Número de Adposições: 0.1406\n",
      "Número de Numerais: 0.0266\n",
      "Tamanho médio dos parágrafos: 367\n",
      "Número de caracteres do título: 63\n",
      "É uma pergunta?: 1\n",
      "Vezes relacionado: 0\n"
     ]
    }
   ],
   "source": [
    "i = 149\n",
    "print(f\"Texto {i} - {textos_por_paragrafo[i][0][:-1]}\")\n",
    "print(f\"Autor: {textos_por_paragrafo[i][-1][:-1]}\")\n",
    "print(f\"Número de palavras: {nPalavras[i]}\")\n",
    "print(f\"Número de parágrafos: {nParagrafos[i]}\") ####### Título e Autor contam como parágrafos\n",
    "print(f\"Número de substantivos: {nNounsTotal[i]}\")\n",
    "print(f\"Número de adjetivos: {nAdjTotal[i]}\")\n",
    "print(f\"Número de verbos: {nVerbTotal[i]}\")\n",
    "print(f\"Número de Entidades Nomeadas: {nNesTotal[i]}\")\n",
    "print(f\"Número de Determinantes:\",nDetTotal[i])\n",
    "print(f\"Número de Conjunções:\",nConjTotal[i])\n",
    "print(f\"Número de Advérbios:\",nAdvTotal[i])\n",
    "print(f\"Número de Adposições:\",nAdpTotal[i])\n",
    "print(f\"Número de Numerais:\",nNumTotal[i])\n",
    "print(f\"Tamanho médio dos parágrafos:\",mediaParagrafos[i])\n",
    "print(f\"Número de caracteres do título:\",tamanhoTitulo[i])\n",
    "print(f\"É uma pergunta?: {pergunta[i]}\")\n",
    "print(f\"Vezes relacionado: {refs[i]}\")"
   ]
  },
  {
   "cell_type": "markdown",
   "metadata": {},
   "source": [
    "Criação da planilha de dados gerados com PLN."
   ]
  },
  {
   "cell_type": "code",
   "execution_count": 32,
   "metadata": {},
   "outputs": [],
   "source": [
    "nomes = ['numPal', 'numPar','numSub', 'numAdj', 'numVrb', 'numNEs','numDet',\n",
    "         'numConj','numAdv','numAdp','numNum','pergunta','tamMedioParagraf','tamTitulo', 'refs']\n",
    "\n",
    "df_pln = pd.DataFrame(list(zip(nPalavras, nParagrafos, nNounsTotal, nAdjTotal, nVerbTotal, nNesTotal,\n",
    "                           nDetTotal, nConjTotal, nAdvTotal, nAdpTotal, nNumTotal, \n",
    "                           pergunta, mediaParagrafos, tamanhoTitulo, refs)),columns=nomes)"
   ]
  },
  {
   "cell_type": "code",
   "execution_count": 33,
   "metadata": {},
   "outputs": [
    {
     "name": "stdout",
     "output_type": "stream",
     "text": [
      "   numPal  numPar  numSub  numAdj  numVrb  numNEs  numDet  numConj  numAdv  \\\n",
      "0     345       9  0.3362  0.0754  0.1159  0.1420  0.1594   0.0406  0.0464   \n",
      "1     532      18  0.3684  0.0752  0.1034  0.1673  0.1729   0.0489  0.0169   \n",
      "2     913      33  0.3395  0.0537  0.1544  0.1249  0.1796   0.0372  0.0482   \n",
      "3     322       6  0.3758  0.0528  0.1273  0.0590  0.1584   0.0435  0.0373   \n",
      "4     557      13  0.4022  0.0772  0.0790  0.1598  0.1544   0.0395  0.0305   \n",
      "\n",
      "   numAdp  numNum  pergunta  tamMedioParagraf  tamTitulo  refs  \n",
      "0  0.0899  0.0116         1               308         40    15  \n",
      "1  0.1222  0.0132         0               204         22    17  \n",
      "2  0.0832  0.0175         1               180         65     8  \n",
      "3  0.1335  0.0124         0               514         20     5  \n",
      "4  0.1472  0.0180         0               340         56     5  \n"
     ]
    }
   ],
   "source": [
    "print(df_pln.head())\n",
    "df_pln.to_excel('../Dados/dataset-pln.xlsx', index = False)"
   ]
  },
  {
   "cell_type": "code",
   "execution_count": 34,
   "metadata": {},
   "outputs": [],
   "source": [
    "df_manual = pd.read_excel(\"../Dados/dataset-manual.xlsx\", index = False)\n",
    "useless = ['Usuário', 'Rel1', 'Rel2', 'Rel3', 'Link']\n",
    "df_manual.drop(useless, axis='columns', inplace = True)\n",
    "\n",
    "df = df_manual.join(df_pln)\n",
    "df.to_excel('../Dados/dataset.xlsx', index = False)"
   ]
  },
  {
   "cell_type": "code",
   "execution_count": 35,
   "metadata": {},
   "outputs": [
    {
     "name": "stdout",
     "output_type": "stream",
     "text": [
      "No total, são 30 colunas na base de dados\n",
      "Colunas:\n",
      " Index(['Post', 'Data', 'Categoria', 'Área', 'Título Representativo', 'Mídia',\n",
      "       'SEO', 'Links I.', 'Links E.', 'Complexidade', 'Introdução',\n",
      "       'Analogias', 'Interação', 'Siglas', 'Visualizações', 'numPal', 'numPar',\n",
      "       'numSub', 'numAdj', 'numVrb', 'numNEs', 'numDet', 'numConj', 'numAdv',\n",
      "       'numAdp', 'numNum', 'pergunta', 'tamMedioParagraf', 'tamTitulo',\n",
      "       'refs'],\n",
      "      dtype='object')\n"
     ]
    }
   ],
   "source": [
    "print(f\"No total, são {len(df.columns)} colunas na base de dados\")\n",
    "print(\"Colunas:\\n\", df.columns)"
   ]
  },
  {
   "cell_type": "markdown",
   "metadata": {},
   "source": [
    "Gerando a nuvem de palavras com as 100 palavras mais usadas (sem *stopwords*)."
   ]
  },
  {
   "cell_type": "code",
   "execution_count": 36,
   "metadata": {},
   "outputs": [
    {
     "data": {
      "image/png": "[encoded data removed]",
      "text/plain": [
       "<Figure size 432x288 with 1 Axes>"
      ]
     },
     "metadata": {
      "needs_background": "light"
     },
     "output_type": "display_data"
    }
   ],
   "source": [
    "mask = cv2.imread(\"../Imagens/logo.png\")\n",
    "\n",
    "colormap = ListedColormap(['green','#9DA219','black'])\n",
    "cloud = WordCloud(background_color='white',\n",
    "                 colormap=colormap,\n",
    "                 max_words=100,\n",
    "                 mask=mask)\n",
    "\n",
    "cloud.fit_words(frequencies)\n",
    "plt.imshow(cloud);\n",
    "cloud.to_file('../Imagens/cloud.pdf');"
   ]
  }
 ],
 "metadata": {
  "kernelspec": {
   "display_name": "Python 3",
   "language": "python",
   "name": "python3"
  },
  "language_info": {
   "codemirror_mode": {
    "name": "ipython",
    "version": 3
   },
   "file_extension": ".py",
   "mimetype": "text/x-python",
   "name": "python",
   "nbconvert_exporter": "python",
   "pygments_lexer": "ipython3",
   "version": "3.7.3"
  }
 },
 "nbformat": 4,
 "nbformat_minor": 2
}
